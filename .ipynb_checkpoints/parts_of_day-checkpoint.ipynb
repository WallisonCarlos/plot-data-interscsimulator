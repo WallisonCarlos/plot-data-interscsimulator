{
 "cells": [
  {
   "cell_type": "code",
   "execution_count": 1,
   "metadata": {},
   "outputs": [],
   "source": [
    "import os\n",
    "import pandas as pd\n",
    "import matplotlib.pyplot as plt"
   ]
  },
  {
   "cell_type": "code",
   "execution_count": 3,
   "metadata": {},
   "outputs": [],
   "source": [
    "scenario = 0\n",
    "files = os.listdir('/home/wally/eclipse-workspace/pkmeansimulator/timer/global/'+str(scenario)+'/PARTS_OF_DAY/')\n",
    "for j in range(len(files)):\n",
    "    print(files[j])\n",
    "    df = pd.read_csv(\"/home/wally/eclipse-workspace/pkmeansimulator/timer/global/\"+str(scenario)+\"/PARTS_OF_DAY/\"+str(files[j]), delimiter = \";\") \n",
    "    df.head()"
   ]
  },
  {
   "cell_type": "code",
   "execution_count": null,
   "metadata": {},
   "outputs": [],
   "source": []
  }
 ],
 "metadata": {
  "kernelspec": {
   "display_name": "Python 3",
   "language": "python",
   "name": "python3"
  },
  "language_info": {
   "codemirror_mode": {
    "name": "ipython",
    "version": 3
   },
   "file_extension": ".py",
   "mimetype": "text/x-python",
   "name": "python",
   "nbconvert_exporter": "python",
   "pygments_lexer": "ipython3",
   "version": "3.7.6"
  }
 },
 "nbformat": 4,
 "nbformat_minor": 4
}
